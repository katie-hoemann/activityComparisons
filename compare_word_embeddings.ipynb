{
 "cells": [
  {
   "cell_type": "markdown",
   "id": "f906003c",
   "metadata": {},
   "source": [
    "### Install the model"
   ]
  },
  {
   "cell_type": "code",
   "execution_count": 19,
   "id": "57ded701-ab4b-4bcd-8fd1-b40b56b4583c",
   "metadata": {},
   "outputs": [
    {
     "name": "stdout",
     "output_type": "stream",
     "text": [
      "3.9.13\n"
     ]
    }
   ],
   "source": [
    "#For reference:\n",
    "from platform import python_version\n",
    "print(python_version()) ##3.11.4"
   ]
  },
  {
   "cell_type": "code",
   "execution_count": 2,
   "id": "e8b3c89d-6bfd-4179-a78d-bda3dfbd6ee6",
   "metadata": {},
   "outputs": [
    {
     "name": "stderr",
     "output_type": "stream",
     "text": [
      "C:\\Users\\Katie\\anaconda3\\lib\\site-packages\\scipy\\__init__.py:155: UserWarning: A NumPy version >=1.18.5 and <1.25.0 is required for this version of SciPy (detected version 1.26.4\n",
      "  warnings.warn(f\"A NumPy version >={np_minversion} and <{np_maxversion}\"\n"
     ]
    }
   ],
   "source": [
    "import numpy as np\n",
    "from scipy import stats as ssp\n",
    "import scipy as sp\n",
    "import pandas as pd\n",
    "pd.set_option('display.max_columns',100)\n",
    "pd.set_option('display.max_rows', 100)\n",
    "from sklearn.metrics.pairwise import cosine_similarity\n",
    "import matplotlib.pyplot as plt\n",
    "from sklearn.cluster import SpectralClustering\n",
    "from sklearn.metrics import silhouette_score"
   ]
  },
  {
   "cell_type": "code",
   "execution_count": 3,
   "id": "af064833-1ee7-429e-bc3b-9f1bd024dd6f",
   "metadata": {},
   "outputs": [],
   "source": [
    "#load Roberta Vectors from the multilingual model: https://www.sbert.net/index.html\n",
    "from sentence_transformers import SentenceTransformer\n",
    "model = SentenceTransformer('distiluse-base-multilingual-cased-v1')"
   ]
  },
  {
   "cell_type": "markdown",
   "id": "e4efbcad-0257-480f-a112-340cd273428c",
   "metadata": {},
   "source": [
    "### Get and clean the data"
   ]
  },
  {
   "cell_type": "code",
   "execution_count": 20,
   "id": "214454d1-ccdc-415d-8d9a-52d28c73e2f8",
   "metadata": {},
   "outputs": [],
   "source": [
    "#Load data\n",
    "data = pd.read_csv(\"./activities_sample2.csv\")"
   ]
  },
  {
   "cell_type": "code",
   "execution_count": 21,
   "id": "8385eb2d",
   "metadata": {},
   "outputs": [],
   "source": [
    "#Add space after commas in categorical responses\n",
    "data['activity_mc'] = data['activity_mc'].str.replace(\",\", \", \")"
   ]
  },
  {
   "cell_type": "code",
   "execution_count": 22,
   "id": "f037601b-a04c-49b1-9c1c-898ac39eb5ab",
   "metadata": {},
   "outputs": [],
   "source": [
    "#Remove any extra whitespace\n",
    "data['activity_mc'] = data['activity_mc'].str.strip()\n",
    "data['activity_open'] = data['activity_open'].str.strip() "
   ]
  },
  {
   "cell_type": "code",
   "execution_count": 23,
   "id": "28451af1-a6a5-482d-9c61-9ef0c3d8165b",
   "metadata": {},
   "outputs": [
    {
     "data": {
      "text/html": [
       "<div>\n",
       "<style scoped>\n",
       "    .dataframe tbody tr th:only-of-type {\n",
       "        vertical-align: middle;\n",
       "    }\n",
       "\n",
       "    .dataframe tbody tr th {\n",
       "        vertical-align: top;\n",
       "    }\n",
       "\n",
       "    .dataframe thead th {\n",
       "        text-align: right;\n",
       "    }\n",
       "</style>\n",
       "<table border=\"1\" class=\"dataframe\">\n",
       "  <thead>\n",
       "    <tr style=\"text-align: right;\">\n",
       "      <th></th>\n",
       "      <th>ppID</th>\n",
       "      <th>questionListName</th>\n",
       "      <th>timeStampStart</th>\n",
       "      <th>timeStampStop</th>\n",
       "      <th>activity_mc</th>\n",
       "      <th>activity_open</th>\n",
       "      <th>sample</th>\n",
       "    </tr>\n",
       "  </thead>\n",
       "  <tbody>\n",
       "    <tr>\n",
       "      <th>0</th>\n",
       "      <td>302</td>\n",
       "      <td>Event-Based Morning Assessment 1</td>\n",
       "      <td>18-10-22 11:41</td>\n",
       "      <td>18-10-22 11:44</td>\n",
       "      <td>studying, working</td>\n",
       "      <td>i had breakfast, got to uni and had an hour tu...</td>\n",
       "      <td>2</td>\n",
       "    </tr>\n",
       "    <tr>\n",
       "      <th>1</th>\n",
       "      <td>302</td>\n",
       "      <td>Event-Based Daily Assessment</td>\n",
       "      <td>18-10-22 14:39</td>\n",
       "      <td>18-10-22 14:41</td>\n",
       "      <td>biking, engaging in a hobby, walking, working,...</td>\n",
       "      <td>finished my tutorial, went home, read my book ...</td>\n",
       "      <td>2</td>\n",
       "    </tr>\n",
       "    <tr>\n",
       "      <th>2</th>\n",
       "      <td>302</td>\n",
       "      <td>Event-Based Daily Assessment</td>\n",
       "      <td>18-10-22 19:10</td>\n",
       "      <td>18-10-22 19:11</td>\n",
       "      <td>eating, engaging in a hobby, self-care, sleeping</td>\n",
       "      <td>lunch\\r\\ntherapy\\r\\nbook\\r\\nnap</td>\n",
       "      <td>2</td>\n",
       "    </tr>\n",
       "    <tr>\n",
       "      <th>3</th>\n",
       "      <td>302</td>\n",
       "      <td>Event-Based Daily Assessment</td>\n",
       "      <td>18-10-22 20:55</td>\n",
       "      <td>18-10-22 20:55</td>\n",
       "      <td>self-care, studying</td>\n",
       "      <td>showered and got to my dutch class</td>\n",
       "      <td>2</td>\n",
       "    </tr>\n",
       "    <tr>\n",
       "      <th>4</th>\n",
       "      <td>302</td>\n",
       "      <td>Event-Based Evening Assessment</td>\n",
       "      <td>19-10-22 0:22</td>\n",
       "      <td>19-10-22 0:23</td>\n",
       "      <td>eating, studying</td>\n",
       "      <td>dutch course and dinner</td>\n",
       "      <td>2</td>\n",
       "    </tr>\n",
       "  </tbody>\n",
       "</table>\n",
       "</div>"
      ],
      "text/plain": [
       "   ppID                  questionListName  timeStampStart   timeStampStop  \\\n",
       "0   302  Event-Based Morning Assessment 1  18-10-22 11:41  18-10-22 11:44   \n",
       "1   302      Event-Based Daily Assessment  18-10-22 14:39  18-10-22 14:41   \n",
       "2   302      Event-Based Daily Assessment  18-10-22 19:10  18-10-22 19:11   \n",
       "3   302      Event-Based Daily Assessment  18-10-22 20:55  18-10-22 20:55   \n",
       "4   302    Event-Based Evening Assessment   19-10-22 0:22   19-10-22 0:23   \n",
       "\n",
       "                                         activity_mc  \\\n",
       "0                                  studying, working   \n",
       "1  biking, engaging in a hobby, walking, working,...   \n",
       "2   eating, engaging in a hobby, self-care, sleeping   \n",
       "3                                self-care, studying   \n",
       "4                                   eating, studying   \n",
       "\n",
       "                                       activity_open  sample  \n",
       "0  i had breakfast, got to uni and had an hour tu...       2  \n",
       "1  finished my tutorial, went home, read my book ...       2  \n",
       "2                    lunch\\r\\ntherapy\\r\\nbook\\r\\nnap       2  \n",
       "3                 showered and got to my dutch class       2  \n",
       "4                            dutch course and dinner       2  "
      ]
     },
     "execution_count": 23,
     "metadata": {},
     "output_type": "execute_result"
    }
   ],
   "source": [
    "#Examine data\n",
    "data.head()"
   ]
  },
  {
   "cell_type": "code",
   "execution_count": 24,
   "id": "865a4f66-ae73-4422-a39e-33394a774057",
   "metadata": {},
   "outputs": [
    {
     "name": "stdout",
     "output_type": "stream",
     "text": [
      "3\n",
      "0\n"
     ]
    }
   ],
   "source": [
    "#Check for missing data\n",
    "print(sum(pd.isna(data['activity_mc'])))\n",
    "print(sum(pd.isna(data['activity_open'])))"
   ]
  },
  {
   "cell_type": "code",
   "execution_count": 25,
   "id": "f285935a-5c98-4a20-8078-b701a5c34c8a",
   "metadata": {},
   "outputs": [],
   "source": [
    "#Remove missing data\n",
    "data = data.dropna(subset='activity_mc')\n",
    "data = data.dropna(subset='activity_open')"
   ]
  },
  {
   "cell_type": "markdown",
   "id": "370d8acd",
   "metadata": {},
   "source": [
    "### Get unique phrases and encode vector positions for open descriptions"
   ]
  },
  {
   "cell_type": "code",
   "execution_count": 26,
   "id": "9ab98460-e7d9-4538-8f79-6e6a30d5ab48",
   "metadata": {},
   "outputs": [],
   "source": [
    "#Get unique phrases\n",
    "data_unique_phrases_open = data['activity_open'].unique()"
   ]
  },
  {
   "cell_type": "code",
   "execution_count": 27,
   "id": "5ccbcc80-379f-49cd-b684-eeda5329591e",
   "metadata": {},
   "outputs": [
    {
     "name": "stdout",
     "output_type": "stream",
     "text": [
      "2251\n",
      "1889\n"
     ]
    }
   ],
   "source": [
    "#Compare number of unique phrases to total number of phrases\n",
    "print(len(data))\n",
    "print(len(data_unique_phrases_open))"
   ]
  },
  {
   "cell_type": "code",
   "execution_count": 28,
   "id": "dd989a4c-4055-404c-936a-21dc057c5768",
   "metadata": {},
   "outputs": [
    {
     "data": {
      "application/vnd.jupyter.widget-view+json": {
       "model_id": "c1dc2f53c3cb4ab0b338b83b0890f234",
       "version_major": 2,
       "version_minor": 0
      },
      "text/plain": [
       "Batches:   0%|          | 0/60 [00:00<?, ?it/s]"
      ]
     },
     "metadata": {},
     "output_type": "display_data"
    }
   ],
   "source": [
    "#Get the vector positions for the unique phrases\n",
    "roberta_open = model.encode(data_unique_phrases_open,show_progress_bar=True)\n",
    "roberta_dict_open = dict(zip(data_unique_phrases_open, roberta_open))"
   ]
  },
  {
   "cell_type": "code",
   "execution_count": 29,
   "id": "e5230a6e-7766-4bdd-96ea-3f300fda0f32",
   "metadata": {},
   "outputs": [
    {
     "data": {
      "text/plain": [
       "(1889, 512)"
      ]
     },
     "execution_count": 29,
     "metadata": {},
     "output_type": "execute_result"
    }
   ],
   "source": [
    "#Confirm the data have the expected size/shape\n",
    "roberta_open.shape"
   ]
  },
  {
   "cell_type": "code",
   "execution_count": 30,
   "id": "38186d13-a8a5-4771-8273-f8ffd8a25f43",
   "metadata": {},
   "outputs": [],
   "source": [
    "#Assign vectors to each data point\n",
    "data['robertaVec_open'] = data['activity_open'].apply(lambda x: roberta_dict_open[x])"
   ]
  },
  {
   "cell_type": "markdown",
   "id": "66ec1627",
   "metadata": {},
   "source": [
    "### Get unique phrases and encode vector positions for multiple choice descriptions"
   ]
  },
  {
   "cell_type": "code",
   "execution_count": 31,
   "id": "021c0b01",
   "metadata": {},
   "outputs": [],
   "source": [
    "#Get unique phrases\n",
    "data_unique_phrases_mc = data['activity_mc'].unique()"
   ]
  },
  {
   "cell_type": "code",
   "execution_count": 32,
   "id": "5e8133e5",
   "metadata": {},
   "outputs": [
    {
     "name": "stdout",
     "output_type": "stream",
     "text": [
      "2251\n",
      "1237\n"
     ]
    }
   ],
   "source": [
    "#Compare number of unique phrases to total number of phrases\n",
    "print(len(data))\n",
    "print(len(data_unique_phrases_mc))"
   ]
  },
  {
   "cell_type": "code",
   "execution_count": 33,
   "id": "3be29fe9",
   "metadata": {},
   "outputs": [
    {
     "data": {
      "application/vnd.jupyter.widget-view+json": {
       "model_id": "987ed76e2f5a417fadc56ab02bf73986",
       "version_major": 2,
       "version_minor": 0
      },
      "text/plain": [
       "Batches:   0%|          | 0/39 [00:00<?, ?it/s]"
      ]
     },
     "metadata": {},
     "output_type": "display_data"
    }
   ],
   "source": [
    "#Get the vector positions for the unique phrases\n",
    "roberta_mc = model.encode(data_unique_phrases_mc,show_progress_bar=True)\n",
    "roberta_dict_mc = dict(zip(data_unique_phrases_mc, roberta_mc))"
   ]
  },
  {
   "cell_type": "code",
   "execution_count": 34,
   "id": "28533661",
   "metadata": {},
   "outputs": [
    {
     "data": {
      "text/plain": [
       "(1237, 512)"
      ]
     },
     "execution_count": 34,
     "metadata": {},
     "output_type": "execute_result"
    }
   ],
   "source": [
    "#Confirm the data have the expected size/shape\n",
    "roberta_mc.shape"
   ]
  },
  {
   "cell_type": "code",
   "execution_count": 35,
   "id": "55edf2c4",
   "metadata": {},
   "outputs": [],
   "source": [
    "#Assign vectors to each data point\n",
    "data['robertaVec_mc'] = data['activity_mc'].apply(lambda x: roberta_dict_mc[x])"
   ]
  },
  {
   "cell_type": "markdown",
   "id": "0b671d99",
   "metadata": {},
   "source": [
    "### Get distances between multiple choice and open descriptions"
   ]
  },
  {
   "cell_type": "code",
   "execution_count": 36,
   "id": "2e2c89e3",
   "metadata": {},
   "outputs": [],
   "source": [
    "#Calculate pairwise distances using Euclidean distance\n",
    "data['distance'] = data.apply(lambda x: np.linalg.norm(x['robertaVec_open']-x['robertaVec_mc']), axis=1)"
   ]
  },
  {
   "cell_type": "code",
   "execution_count": 37,
   "id": "66554978",
   "metadata": {},
   "outputs": [],
   "source": [
    "def cosine(x,y):\n",
    "    x = x.reshape(1, -1)\n",
    "    y = y.reshape(1, -1)\n",
    "    cosine = cosine_similarity(x,y)[0][0]\n",
    "    return cosine"
   ]
  },
  {
   "cell_type": "code",
   "execution_count": 38,
   "id": "d8c70e42",
   "metadata": {},
   "outputs": [],
   "source": [
    "#Calculate pairwise distances using cosine similarity\n",
    "data['similarity'] = data.apply(lambda x: cosine(x['robertaVec_open'],x['robertaVec_mc']), axis=1)"
   ]
  },
  {
   "cell_type": "code",
   "execution_count": 39,
   "id": "e8bf58c7",
   "metadata": {},
   "outputs": [],
   "source": [
    "#Save updated data to a new csv file\n",
    "data.to_csv('activities_sample2_distances.csv', index=False)"
   ]
  },
  {
   "cell_type": "code",
   "execution_count": null,
   "id": "6466c357",
   "metadata": {},
   "outputs": [],
   "source": []
  }
 ],
 "metadata": {
  "kernelspec": {
   "display_name": "Python 3 (ipykernel)",
   "language": "python",
   "name": "python3"
  },
  "language_info": {
   "codemirror_mode": {
    "name": "ipython",
    "version": 3
   },
   "file_extension": ".py",
   "mimetype": "text/x-python",
   "name": "python",
   "nbconvert_exporter": "python",
   "pygments_lexer": "ipython3",
   "version": "3.9.13"
  }
 },
 "nbformat": 4,
 "nbformat_minor": 5
}
